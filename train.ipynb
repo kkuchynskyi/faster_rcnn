{
 "cells": [
  {
   "cell_type": "code",
   "execution_count": 1,
   "metadata": {
    "ExecuteTime": {
     "end_time": "2019-03-05T03:29:45.476876Z",
     "start_time": "2019-03-05T03:28:38.826799Z"
    }
   },
   "outputs": [],
   "source": [
    "import tensorflow as tf\n",
    "import numpy as np\n",
    "import pandas as pd\n",
    "import cv2\n",
    "from layer_utils.generate_anchors import *\n",
    "from PIL import Image\n",
    "from layer_utils.feature_map import get_feature_map,initialize_feature_extractor_weights\n",
    "from layer_utils.anchor_target import *\n",
    "from layer_utils.proposal_layer import *\n",
    "from layer_utils.roi_pool_layer import roi_pool_layer\n",
    "from layer_utils.proposal_target_layer import proposal_target_layer\n",
    "from loss_utils import *\n",
    "from dataset_utils import *\n",
    "slim = tf.contrib.slim"
   ]
  },
  {
   "cell_type": "code",
   "execution_count": 3,
   "metadata": {
    "ExecuteTime": {
     "end_time": "2019-03-05T03:30:05.359906Z",
     "start_time": "2019-03-05T03:30:04.776735Z"
    }
   },
   "outputs": [],
   "source": [
    "# XML_IMAGE = 'A:\\\\reshaper\\\\output_1024_rgb\\\\89.xml'\n",
    "# PATH_IMAGE = 'A:\\\\reshaper\\\\\\output_1024_rgb\\\\89.jpg'\n",
    "# img = Image.open(PATH_IMAGE)\n",
    "# height,width = img.size\n",
    "# print(img.size)\n",
    "# img = np.array(img.getdata()).reshape((height,width,3))\n",
    "# img = tf.Variable(np.expand_dims(img,axis=0),dtype=tf.float32)\n",
    "# gt_boxes = tf.placeholder(shape=get_gt_boxes(XML_IMAGE).shape,dtype=tf.float32)\n",
    "#########\n",
    "XML_IMAGE = 'A:\\\\faster_rcnn_data\\\\grayscale_train\\\\1.xml'\n",
    "PATH_IMAGE = 'A:\\\\faster_rcnn_data\\\\grayscale_train\\\\1.jpg'\n",
    "img_to_feed = tf.placeholder(shape=(1024,1024,1),dtype=tf.float32)\n",
    "img_to_feed = tf.expand_dims(tf.image.per_image_standardization(img_to_feed),0)\n",
    "gt_boxes_to_feed = tf.placeholder(shape=(None,4),dtype=tf.float32)"
   ]
  },
  {
   "cell_type": "code",
   "execution_count": 4,
   "metadata": {
    "ExecuteTime": {
     "end_time": "2019-03-05T03:30:08.522993Z",
     "start_time": "2019-03-05T03:30:06.779209Z"
    }
   },
   "outputs": [],
   "source": [
    "NUM_ANCHORS = 5\n",
    "batch_norm_params = {\n",
    "    'center': True,\n",
    "    'scale': True,\n",
    "    'decay': 0.9997,\n",
    "    'epsilon': 0.001,\n",
    "    'updates_collections': tf.GraphKeys.UPDATE_OPS,\n",
    "}\n",
    "initializer = tf.truncated_normal_initializer(mean=0.0, stddev=0.01)\n",
    "initializer_bbox = tf.truncated_normal_initializer(mean=0.0, stddev=0.001)\n",
    "with slim.arg_scope([slim.conv2d, slim.separable_conv2d],\n",
    "                    activation_fn=tf.nn.relu6,\n",
    "                    normalizer_fn=slim.batch_norm):\n",
    "    with slim.arg_scope([slim.batch_norm], **batch_norm_params):\n",
    "        net = get_feature_map(img_to_feed)\n",
    "        ###Finish of feature extractor. Start RPN  ###\n",
    "\n",
    "        # small network over the convolutional feature map,n=3\n",
    "        rpn = slim.conv2d(net, 512, [3, 3], trainable=True, weights_initializer=initializer,\n",
    "                          scope=\"rpn_conv/3x3\")\n",
    "\n",
    "        rpn_cls_score = slim.conv2d(rpn, NUM_ANCHORS * 2, [1, 1], trainable=True,\n",
    "                                    weights_initializer=initializer,\n",
    "                                    padding='VALID', activation_fn=None, scope='rpn_cls_score')\n",
    "\n",
    "        class_predictions_with_background = tf.reshape(rpn_cls_score, [-1, 2])\n",
    "\n",
    "\n",
    "        rpn_bbox_pred = slim.conv2d(net, NUM_ANCHORS*4, [1, 1], trainable=True,\n",
    "                                    weights_initializer=initializer,\n",
    "                                    padding='VALID', activation_fn=None, scope='rpn_bbox_pred')\n",
    "\n",
    "        rpn_bbox_pred = tf.reshape(rpn_bbox_pred, shape=(-1, 4))"
   ]
  },
  {
   "cell_type": "code",
   "execution_count": 5,
   "metadata": {
    "ExecuteTime": {
     "end_time": "2019-03-05T03:30:10.696096Z",
     "start_time": "2019-03-05T03:30:09.862430Z"
    }
   },
   "outputs": [],
   "source": [
    "anchors = generate_anchors(1024,1024)\n",
    "\n",
    "rois,rois_score = proposal_layer(rpn_cls_score,rpn_bbox_pred,anchors,1024,1024)\n",
    "\n",
    "fc7 = roi_pool_layer(net,rois)"
   ]
  },
  {
   "cell_type": "code",
   "execution_count": 6,
   "metadata": {
    "ExecuteTime": {
     "end_time": "2019-03-05T03:30:10.747066Z",
     "start_time": "2019-03-05T03:30:10.698199Z"
    }
   },
   "outputs": [],
   "source": [
    "fc7_ = tf.reduce_mean(fc7, axis=[1, 2])\n",
    "\n",
    "cls_score = slim.fully_connected(fc7_, 2,\n",
    "                                 weights_initializer=initializer,\n",
    "                                 trainable=True,\n",
    "                                 activation_fn=None, scope='cls_score2')\n",
    "\n",
    "\n",
    "bbox_pred = slim.fully_connected(fc7_,2 * 4,\n",
    "                                 weights_initializer=initializer_bbox,\n",
    "                                 trainable=True,\n",
    "                                 activation_fn=None, scope='bbox_pred2')"
   ]
  },
  {
   "cell_type": "markdown",
   "metadata": {},
   "source": [
    "# LOSS"
   ]
  },
  {
   "cell_type": "code",
   "execution_count": 7,
   "metadata": {
    "ExecuteTime": {
     "end_time": "2019-03-05T03:30:13.155120Z",
     "start_time": "2019-03-05T03:30:12.189986Z"
    }
   },
   "outputs": [],
   "source": [
    "image_height = 1024\n",
    "image_width = 1024\n",
    "\n",
    "\n",
    "rpn_bboxes_target, rpn_labels, rpn_indices_true_bboxes = anchor_target(\n",
    "    gt_boxes_to_feed, anchors, image_width, image_height)\n",
    "\n",
    "rcnn_bbox_target, rcnn_labels, rcnn_indices_true_bboxes = proposal_target_layer(rois, gt_boxes_to_feed)\n",
    "\n",
    "\n"
   ]
  },
  {
   "cell_type": "code",
   "execution_count": 8,
   "metadata": {
    "ExecuteTime": {
     "end_time": "2019-03-05T03:30:13.843521Z",
     "start_time": "2019-03-05T03:30:13.643492Z"
    }
   },
   "outputs": [],
   "source": [
    "indices_for_rpn_labels = tf.where(tf.not_equal(rpn_labels,-1))\n",
    "rpn_labels = tf.cast(tf.gather(rpn_labels,indices_for_rpn_labels),tf.int32)\n",
    "rpn_predictions_cls = tf.reshape(tf.gather(class_predictions_with_background,indices_for_rpn_labels),[-1,2])\n",
    "\n",
    "rpn_cross_entropy = tf.reduce_mean(\n",
    "        tf.nn.softmax_cross_entropy_with_logits_v2(logits=rpn_predictions_cls, labels=rpn_labels))\n",
    "\n",
    "\n",
    "\n",
    "rpn_bbox = tf.gather(rpn_bbox_pred,rpn_indices_true_bboxes,axis=0)\n",
    "rpn_bbox_loss = smoothL1(rpn_bbox,rpn_bboxes_target)"
   ]
  },
  {
   "cell_type": "code",
   "execution_count": 9,
   "metadata": {
    "ExecuteTime": {
     "end_time": "2019-03-05T03:30:14.253669Z",
     "start_time": "2019-03-05T03:30:14.159730Z"
    }
   },
   "outputs": [],
   "source": [
    "cond = tf.equal(tf.size(rcnn_indices_true_bboxes), 0)\n",
    "# def true_rcnn_cls_fn(rcnn_labels,cls_score):\n",
    "#     indices_for_rсnn_labels = tf.where(tf.not_equal(rcnn_labels,-1))\n",
    "#     cls_rcnn_labels = tf.cast(tf.gather(rcnn_labels,indices_for_rсnn_labels),tf.int32)\n",
    "#     cls_rcnn_predictions = tf.reshape(tf.gather(cls_score,indices_for_rсnn_labels),[-1,2])\n",
    "#     rcnn_cross_entropy = tf.reduce_mean(\n",
    "#             tf.nn.softmax_cross_entropy_with_logits_v2(logits=cls_rcnn_predictions, labels=cls_rcnn_labels))\n",
    "#     return rcnn_cross_entropy\n",
    "\n",
    "# def true_rcnn_bbox_fn(bbox_pred,rcnn_indices_true_bboxes):\n",
    "#     rcnn_bbox_pred = bbox_pred[:,4:]\n",
    "#     rcnn_bbox_pred = tf.gather(rpn_bbox_pred,rcnn_indices_true_bboxes,axis=0)\n",
    "#     rcnn_bbox_loss = smoothL1(rcnn_bbox_pred,rcnn_bbox_target)\n",
    "#     return rcnn_bbox_loss\n",
    "\n",
    "rcnn_cross_entropy = tf.cond(cond,lambda:0.,lambda:true_rcnn_cls_fn(rcnn_labels,cls_score))\n",
    "rcnn_bbox_loss = tf.cond(cond,lambda:0.,lambda:true_rcnn_bbox_fn(bbox_pred,rcnn_indices_true_bboxes,rcnn_bbox_target))\n",
    "    "
   ]
  },
  {
   "cell_type": "code",
   "execution_count": 10,
   "metadata": {
    "ExecuteTime": {
     "end_time": "2019-03-05T03:30:17.333245Z",
     "start_time": "2019-03-05T03:30:15.146557Z"
    }
   },
   "outputs": [
    {
     "name": "stderr",
     "output_type": "stream",
     "text": [
      "c:\\install\\python\\python36\\lib\\site-packages\\tensorflow\\python\\ops\\gradients_impl.py:112: UserWarning: Converting sparse IndexedSlices to a dense Tensor of unknown shape. This may consume a large amount of memory.\n",
      "  \"Converting sparse IndexedSlices to a dense Tensor of unknown shape. \"\n"
     ]
    }
   ],
   "source": [
    "total_loss = rpn_cross_entropy  +rcnn_cross_entropy+rpn_bbox_loss+rcnn_bbox_loss\n",
    "lr = tf.Variable(0.001, trainable=False)\n",
    "optimizer = tf.train.MomentumOptimizer(lr, 0.9)\n",
    "gvs = optimizer.compute_gradients(total_loss)\n",
    "train_op = optimizer.apply_gradients(gvs)"
   ]
  },
  {
   "cell_type": "code",
   "execution_count": 10,
   "metadata": {
    "ExecuteTime": {
     "end_time": "2019-03-05T03:15:43.242104Z",
     "start_time": "2019-03-05T03:15:38.056599Z"
    },
    "scrolled": true
   },
   "outputs": [],
   "source": [
    "df = pd.read_csv('A:\\\\faster_rcnn_data\\\\grayscale_train\\\\grayscale_train_labels.csv')\n",
    "dir_ = 'A:\\\\faster_rcnn_data\\\\grayscale_train'\n",
    "pictures_files = df['filename'].unique()\n",
    "all_gt_boxes = []\n",
    "images = []\n",
    "for picture in pictures_files:\n",
    "    current_df = df[df['filename']==picture]\n",
    "    gt_boxes = []\n",
    "    for i in range(current_df.shape[0]):\n",
    "        gt_boxes.append(current_df.iloc[i,4:].values)\n",
    "    all_gt_boxes.append(gt_boxes)\n",
    "    \n",
    "    img = cv2.imread(dir_ + \"\\\\\" + picture,cv2.IMREAD_GRAYSCALE)\n",
    "#     print(img.shape)\n",
    "    images.append(np.expand_dims(np.array(img,dtype=np.float32),axis=2))"
   ]
  },
  {
   "cell_type": "code",
   "execution_count": null,
   "metadata": {
    "ExecuteTime": {
     "start_time": "2019-03-05T03:14:15.999Z"
    }
   },
   "outputs": [],
   "source": [
    "import itertools\n",
    "data = tf.data.Dataset.from_generator(lambda: itertools.zip_longest(images,all_gt_boxes),\n",
    "                                      output_types=(tf.float32, tf.float32),\n",
    "                                      output_shapes=(tf.TensorShape([None, None, 1]), \n",
    "                                                     tf.TensorShape([None,None])))\n",
    "data = data.repeat(2)\n",
    "iterator = data.make_one_shot_iterator()\n",
    "next_element = iterator.get_next()"
   ]
  },
  {
   "cell_type": "code",
   "execution_count": null,
   "metadata": {
    "ExecuteTime": {
     "start_time": "2019-03-05T03:14:16.683Z"
    }
   },
   "outputs": [],
   "source": [
    "next_element = get_iterator('A:\\\\faster_rcnn_data\\\\grayscale_train',2)"
   ]
  },
  {
   "cell_type": "code",
   "execution_count": 13,
   "metadata": {
    "ExecuteTime": {
     "end_time": "2019-02-28T21:38:40.284850Z",
     "start_time": "2019-02-28T21:38:13.335636Z"
    },
    "scrolled": true
   },
   "outputs": [
    {
     "name": "stdout",
     "output_type": "stream",
     "text": [
      "rpn_bboxes_target (798, 4)\n",
      "rpn_labels (5488, 1)\n",
      "rpn_indices_true_bboxes (798, 1)\n",
      "rcnn_bbox_target (1, 4)\n",
      "rcnn_labels (100,)\n",
      "rcnn_indices_true_bboxes [78]\n",
      "!!!!\n",
      "rpn_cross_entropy 0.24867067\n",
      "rpn_bbox_loss 263.17795\n",
      "rcnn_cross_entropy 0.1732868\n",
      "rcnn_bbox_loss 0.13969094\n",
      "cond False\n",
      "__________________________\n",
      "rpn_bboxes_target (1723, 4)\n",
      "rpn_labels (4663, 1)\n",
      "rpn_indices_true_bboxes (1723, 1)\n",
      "rcnn_bbox_target (2, 4)\n",
      "rcnn_labels (100,)\n",
      "rcnn_indices_true_bboxes [42 55]\n",
      "!!!!\n",
      "rpn_cross_entropy 0.63535476\n",
      "rpn_bbox_loss 686.738\n",
      "rcnn_cross_entropy 0.14592572\n",
      "rcnn_bbox_loss 0.17162666\n",
      "cond False\n",
      "__________________________\n",
      "rpn_bboxes_target (1156, 4)\n",
      "rpn_labels (4570, 1)\n",
      "rpn_indices_true_bboxes (1156, 1)\n",
      "rcnn_bbox_target (2, 4)\n",
      "rcnn_labels (100,)\n",
      "rcnn_indices_true_bboxes [ 4 85]\n",
      "!!!!\n",
      "rpn_cross_entropy 0.4187842\n",
      "rpn_bbox_loss 394.08276\n",
      "rcnn_cross_entropy 0.081546724\n",
      "rcnn_bbox_loss 0.059123844\n",
      "cond False\n",
      "__________________________\n",
      "rpn_bboxes_target (972, 4)\n",
      "rpn_labels (5324, 1)\n",
      "rpn_indices_true_bboxes (972, 1)\n",
      "rcnn_bbox_target (5, 4)\n",
      "rcnn_labels (100,)\n",
      "rcnn_indices_true_bboxes [25 48 50 60]\n",
      "!!!!\n",
      "rpn_cross_entropy 0.3177707\n",
      "rpn_bbox_loss 342.7968\n",
      "rcnn_cross_entropy 0.33007008\n",
      "rcnn_bbox_loss 0.064498805\n",
      "cond False\n",
      "__________________________\n",
      "rpn_bboxes_target (243, 4)\n",
      "rpn_labels (6783, 1)\n",
      "rpn_indices_true_bboxes (243, 1)\n",
      "rcnn_bbox_target (0, 4)\n",
      "rcnn_labels (100,)\n",
      "rcnn_indices_true_bboxes []\n",
      "!!!!\n",
      "rpn_cross_entropy 0.058694765\n",
      "rpn_bbox_loss 71.67985\n",
      "rcnn_cross_entropy 0.0\n",
      "rcnn_bbox_loss 0.0\n",
      "cond True\n",
      "__________________________\n",
      "rpn_bboxes_target (1319, 4)\n",
      "rpn_labels (4851, 1)\n",
      "rpn_indices_true_bboxes (1319, 1)\n",
      "rcnn_bbox_target (1, 4)\n",
      "rcnn_labels (100,)\n",
      "rcnn_indices_true_bboxes [46]\n",
      "!!!!\n",
      "rpn_cross_entropy 0.47009727\n",
      "rpn_bbox_loss 512.63214\n",
      "rcnn_cross_entropy 0.19804205\n",
      "rcnn_bbox_loss 0.11125832\n",
      "cond False\n",
      "__________________________\n",
      "rpn_bboxes_target (1162, 4)\n",
      "rpn_labels (5606, 1)\n",
      "rpn_indices_true_bboxes (1162, 1)\n",
      "rcnn_bbox_target (0, 4)\n",
      "rcnn_labels (100,)\n",
      "rcnn_indices_true_bboxes []\n",
      "!!!!\n",
      "rpn_cross_entropy 0.36894068\n",
      "rpn_bbox_loss 528.1108\n",
      "rcnn_cross_entropy 0.0\n",
      "rcnn_bbox_loss 0.0\n",
      "cond True\n",
      "__________________________\n",
      "rpn_bboxes_target (1599, 4)\n",
      "rpn_labels (4677, 1)\n",
      "rpn_indices_true_bboxes (1599, 1)\n",
      "rcnn_bbox_target (2, 4)\n",
      "rcnn_labels (100,)\n",
      "rcnn_indices_true_bboxes [20 62]\n",
      "!!!!\n",
      "rpn_cross_entropy 0.6026731\n",
      "rpn_bbox_loss 617.75275\n",
      "rcnn_cross_entropy 0.12602676\n",
      "rcnn_bbox_loss 0.03319552\n",
      "cond False\n",
      "__________________________\n",
      "rpn_bboxes_target (1726, 4)\n",
      "rpn_labels (4636, 1)\n",
      "rpn_indices_true_bboxes (1726, 1)\n",
      "rcnn_bbox_target (8, 4)\n",
      "rcnn_labels (100,)\n",
      "rcnn_indices_true_bboxes [ 1 12 21 28]\n",
      "!!!!\n",
      "rpn_cross_entropy 0.651632\n",
      "rpn_bbox_loss 612.29193\n",
      "rcnn_cross_entropy 0.41075388\n",
      "rcnn_bbox_loss 0.080974475\n",
      "cond False\n",
      "__________________________\n",
      "rpn_bboxes_target (1815, 4)\n",
      "rpn_labels (4832, 1)\n",
      "rpn_indices_true_bboxes (1815, 1)\n",
      "rcnn_bbox_target (5, 4)\n",
      "rcnn_labels (100,)\n",
      "rcnn_indices_true_bboxes [ 1 32 37 48]\n",
      "!!!!\n",
      "rpn_cross_entropy 0.643547\n",
      "rpn_bbox_loss 625.806\n",
      "rcnn_cross_entropy 0.3150669\n",
      "rcnn_bbox_loss 0.096778184\n",
      "cond False\n",
      "__________________________\n",
      "rpn_bboxes_target (1706, 4)\n",
      "rpn_labels (4661, 1)\n",
      "rpn_indices_true_bboxes (1706, 1)\n",
      "rcnn_bbox_target (8, 4)\n",
      "rcnn_labels (100,)\n",
      "rcnn_indices_true_bboxes [ 1 20 35 37]\n",
      "!!!!\n",
      "rpn_cross_entropy 0.63709766\n",
      "rpn_bbox_loss 568.5307\n",
      "rcnn_cross_entropy 0.41075388\n",
      "rcnn_bbox_loss 0.07779577\n",
      "cond False\n",
      "__________________________\n",
      "rpn_bboxes_target (332, 4)\n",
      "rpn_labels (4665, 1)\n",
      "rpn_indices_true_bboxes (332, 1)\n",
      "rcnn_bbox_target (1, 4)\n",
      "rcnn_labels (100,)\n",
      "rcnn_indices_true_bboxes [22]\n",
      "!!!!\n",
      "rpn_cross_entropy 0.13565037\n",
      "rpn_bbox_loss 168.49072\n",
      "rcnn_cross_entropy 0.1540327\n",
      "rcnn_bbox_loss 0.11957205\n",
      "cond False\n",
      "__________________________\n",
      "rpn_bboxes_target (549, 4)\n",
      "rpn_labels (4538, 1)\n",
      "rpn_indices_true_bboxes (549, 1)\n",
      "rcnn_bbox_target (3, 4)\n",
      "rcnn_labels (100,)\n",
      "rcnn_indices_true_bboxes [45 62 98]\n",
      "!!!!\n",
      "rpn_cross_entropy 0.21736772\n",
      "rpn_bbox_loss 207.64012\n",
      "rcnn_cross_entropy 0.29706308\n",
      "rcnn_bbox_loss 0.085370265\n",
      "cond False\n",
      "__________________________\n",
      "rpn_bboxes_target (541, 4)\n",
      "rpn_labels (4626, 1)\n",
      "rpn_indices_true_bboxes (541, 1)\n",
      "rcnn_bbox_target (1, 4)\n",
      "rcnn_labels (100,)\n",
      "rcnn_indices_true_bboxes [59]\n",
      "!!!!\n",
      "rpn_cross_entropy 0.21432984\n",
      "rpn_bbox_loss 274.19595\n",
      "rcnn_cross_entropy 0.3465736\n",
      "rcnn_bbox_loss 0.06655237\n",
      "cond False\n",
      "__________________________\n",
      "rpn_bboxes_target (29, 4)\n",
      "rpn_labels (7036, 1)\n",
      "rpn_indices_true_bboxes (29, 1)\n",
      "rcnn_bbox_target (1, 4)\n",
      "rcnn_labels (100,)\n",
      "rcnn_indices_true_bboxes [34]\n",
      "!!!!\n",
      "rpn_cross_entropy 0.006225919\n",
      "rpn_bbox_loss 3.5533988\n",
      "rcnn_cross_entropy 0.46209812\n",
      "rcnn_bbox_loss 0.05197341\n",
      "cond False\n",
      "__________________________\n",
      "rpn_bboxes_target (619, 4)\n",
      "rpn_labels (4292, 1)\n",
      "rpn_indices_true_bboxes (619, 1)\n",
      "rcnn_bbox_target (1, 4)\n",
      "rcnn_labels (100,)\n",
      "rcnn_indices_true_bboxes [99]\n",
      "!!!!\n",
      "rpn_cross_entropy 0.2888754\n",
      "rpn_bbox_loss 363.59848\n",
      "rcnn_cross_entropy 0.10663803\n",
      "rcnn_bbox_loss 0.09709138\n",
      "cond False\n",
      "__________________________\n",
      "rpn_bboxes_target (962, 4)\n",
      "rpn_labels (4320, 1)\n",
      "rpn_indices_true_bboxes (962, 1)\n",
      "rcnn_bbox_target (0, 4)\n",
      "rcnn_labels (100,)\n",
      "rcnn_indices_true_bboxes []\n",
      "!!!!\n",
      "rpn_cross_entropy 0.39982048\n",
      "rpn_bbox_loss 417.29178\n",
      "rcnn_cross_entropy 0.0\n",
      "rcnn_bbox_loss 0.0\n",
      "cond True\n",
      "__________________________\n",
      "rpn_bboxes_target (2279, 4)\n",
      "rpn_labels (4763, 1)\n",
      "rpn_indices_true_bboxes (2279, 1)\n",
      "rcnn_bbox_target (3, 4)\n",
      "rcnn_labels (100,)\n",
      "rcnn_indices_true_bboxes [13 16 62]\n",
      "!!!!\n",
      "rpn_cross_entropy 0.8494027\n",
      "rpn_bbox_loss 945.9433\n",
      "rcnn_cross_entropy 0.31991407\n",
      "rcnn_bbox_loss 0.09448441\n",
      "cond False\n",
      "__________________________\n",
      "rpn_bboxes_target (1481, 4)\n",
      "rpn_labels (5379, 1)\n",
      "rpn_indices_true_bboxes (1481, 1)\n",
      "rcnn_bbox_target (3, 4)\n",
      "rcnn_labels (100,)\n",
      "rcnn_indices_true_bboxes [69 71 76]\n",
      "!!!!\n",
      "rpn_cross_entropy 0.46820244\n",
      "rpn_bbox_loss 527.9299\n",
      "rcnn_cross_entropy 0.27725887\n",
      "rcnn_bbox_loss 0.09226387\n",
      "cond False\n",
      "__________________________\n",
      "rpn_bboxes_target (2052, 4)\n",
      "rpn_labels (4762, 1)\n",
      "rpn_indices_true_bboxes (2052, 1)\n",
      "rcnn_bbox_target (3, 4)\n",
      "rcnn_labels (100,)\n",
      "rcnn_indices_true_bboxes [61 79 99]\n",
      "!!!!\n",
      "rpn_cross_entropy 0.7615609\n",
      "rpn_bbox_loss 834.2344\n",
      "rcnn_cross_entropy 0.29706308\n",
      "rcnn_bbox_loss 0.041595515\n",
      "cond False\n",
      "__________________________\n"
     ]
    }
   ],
   "source": [
    "assign_op, feed_dict_init = initialize_feature_extractor_weights(\n",
    "    'A:\\\\my_project\\\\ssd_mobilenet_v1.npy')\n",
    "with tf.Session() as sess:\n",
    "    sess.run(tf.global_variables_initializer())\n",
    "    sess.run(assign_op, feed_dict_init)\n",
    "\n",
    "    for i in range(20):\n",
    "        feed_img = np.expand_dims(sess.run(next_element)[0], axis=0)\n",
    "        feed_gt = sess.run(next_element)[1]\n",
    "        rpn1,rpn2,rpn3 = sess.run([rpn_bboxes_target, rpn_labels, rpn_indices_true_bboxes], feed_dict={img_to_feed: feed_img,\n",
    "                                                                                            gt_boxes_to_feed: feed_gt})\n",
    "        print('rpn_bboxes_target',rpn1.shape)\n",
    "        print('rpn_labels',rpn2.shape)\n",
    "        print('rpn_indices_true_bboxes',rpn3.shape)\n",
    "        ########\n",
    "\n",
    "        rcnn1,rcnn2,rcnn3 = sess.run([rcnn_bbox_target, rcnn_labels, rcnn_indices_true_bboxes], feed_dict={img_to_feed: feed_img,\n",
    "                                                                                            gt_boxes_to_feed: feed_gt})\n",
    "#         q ,w,e = sess.run([cls_rcnn_labels,cls_rcnn_predictions,cls_score], feed_dict={img_to_feed: feed_img,\n",
    "#                                                                                             gt_boxes_to_feed: feed_gt})\n",
    "        print('rcnn_bbox_target', rcnn1.shape)\n",
    "        print('rcnn_labels', rcnn2.shape)\n",
    "        print('rcnn_indices_true_bboxes',rcnn3[:4])\n",
    "#         print('rcnn_labels', q[:4])\n",
    "#         print('rcnn_indices_true_bboxes',w[:5])\n",
    "#         print('cls_score',e[:4,:])\n",
    "        loss1,loss2,loss3,loss4,cond_ = sess.run([rcnn_bbox_loss,rcnn_cross_entropy, rpn_cross_entropy, rpn_bbox_loss,cond], feed_dict={img_to_feed: feed_img,\n",
    "                                                                                                    gt_boxes_to_feed: feed_gt})\n",
    "        print('!!!!')\n",
    "        print('rpn_cross_entropy', loss3)\n",
    "        print('rpn_bbox_loss', loss4)\n",
    "        print('rcnn_cross_entropy',loss2)\n",
    "        print('rcnn_bbox_loss',loss1)\n",
    "        print('cond',cond_)\n",
    "        \n",
    "#         fc7_r = sess.run([f], feed_dict={img_to_feed: feed_img,gt_boxes_to_feed: feed_gt})\n",
    "#         print('fc7',fc7_r[0][0,0,0,0])\n",
    "#         print('rois',fc7_r[2][:4,:])\n",
    "#         print('net',fc7_r[3][0,:,:,0])\n",
    "        print('__________________________')"
   ]
  },
  {
   "cell_type": "code",
   "execution_count": null,
   "metadata": {},
   "outputs": [],
   "source": []
  }
 ],
 "metadata": {
  "kernelspec": {
   "display_name": "Python 3",
   "language": "python",
   "name": "python3"
  },
  "language_info": {
   "codemirror_mode": {
    "name": "ipython",
    "version": 3
   },
   "file_extension": ".py",
   "mimetype": "text/x-python",
   "name": "python",
   "nbconvert_exporter": "python",
   "pygments_lexer": "ipython3",
   "version": "3.6.3"
  }
 },
 "nbformat": 4,
 "nbformat_minor": 2
}
